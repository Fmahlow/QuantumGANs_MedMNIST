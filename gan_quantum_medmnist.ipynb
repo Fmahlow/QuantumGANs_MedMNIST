{
 "cells": [
  {
   "cell_type": "markdown",
   "metadata": {},
   "source": [
    "# Quantum GAN com Pennylane e MedMNIST\n",
    "\n",
    "Este notebook apresenta uma implementação simplificada de uma GAN quântica inspirada no método de *patches* descrito por Huang et al. Utilizamos o dataset **MedMNIST** para comparação com os modelos clássicos."
   ]
  },
  {
   "cell_type": "markdown",
   "metadata": {},
   "source": [
    "## 1. Setup Quântico\n",
    "Instalação de `pennylane` e demais bibliotecas necessárias para execução do modelo híbrido."
   ]
  },
  {
   "cell_type": "code",
   "execution_count": 25,
   "metadata": {},
   "outputs": [],
   "source": [
    "!pip install pennylane pennylane-lightning torch medmnist matplotlib --quiet\n",
    "import torch\n",
    "import pennylane as qml\n",
    "from torch import nn\n",
    "from torch.utils.data import DataLoader\n",
    "from torchvision import transforms\n",
    "import medmnist\n",
    "from medmnist import INFO\n",
    "import matplotlib.pyplot as plt"
   ]
  },
  {
   "cell_type": "markdown",
   "metadata": {},
   "source": [
    "## 2. Preparação do Dataset\n",
    "Utilizamos o mesmo subset do notebook clássico para permitir comparação direta. Pode ser necessário reduzir a resolução das imagens para se adequar ao número de qubits disponíveis."
   ]
  },
  {
   "cell_type": "code",
   "execution_count": 26,
   "metadata": {},
   "outputs": [
    {
     "name": "stdout",
     "output_type": "stream",
     "text": [
      "Using downloaded and verified file: /home/mahlow/.medmnist/breastmnist.npz\n",
      "Using downloaded and verified file: /home/mahlow/.medmnist/breastmnist.npz\n"
     ]
    }
   ],
   "source": [
    "# Seleciona o dataset\n",
    "DATA_FLAG = 'breastmnist'\n",
    "info = INFO[DATA_FLAG]\n",
    "download = True\n",
    "\n",
    "transform = transforms.Compose([\n",
    "    transforms.Resize((8, 8)),\n",
    "    transforms.ToTensor(),\n",
    "    transforms.Normalize(mean=[0.5], std=[0.5])\n",
    "])\n",
    "\n",
    "\n",
    "# Carrega treino e teste\n",
    "train_dataset = getattr(medmnist, info['python_class'])(split='train', transform=transform, download=download)\n",
    "test_dataset = getattr(medmnist, info['python_class'])(split='test', transform=transform, download=download)\n",
    "\n",
    "batch_size = 128\n",
    "train_loader = DataLoader(train_dataset, batch_size=batch_size, shuffle=True)"
   ]
  },
  {
   "cell_type": "markdown",
   "metadata": {},
   "source": [
    "## 3. Implementação da Quantum GAN\n",
    "Seguimos o tutorial da Pennylane para criar o gerador quântico por patches. O discriminador permanece clássico."
   ]
  },
  {
   "cell_type": "code",
   "execution_count": 27,
   "metadata": {},
   "outputs": [],
   "source": [
    "# Variáveis do circuito\n",
    "n_qubits = 5\n",
    "n_a_qubits = 1\n",
    "q_depth = 6\n",
    "n_generators = 4\n",
    "\n",
    "class Discriminator(nn.Module):\n",
    "    def __init__(self, img_size=8):\n",
    "        super().__init__()\n",
    "        self.model = nn.Sequential(\n",
    "            nn.Flatten(),\n",
    "            nn.Linear(img_size * img_size, 64),\n",
    "            nn.ReLU(),\n",
    "            nn.Linear(64, 16),\n",
    "            nn.ReLU(),\n",
    "            nn.Linear(16, 1),\n",
    "            nn.Sigmoid()\n",
    "        )\n",
    "    def forward(self, x):\n",
    "        return self.model(x)\n"
   ]
  },
  {
   "cell_type": "code",
   "execution_count": 34,
   "metadata": {},
   "outputs": [],
   "source": [
    "# Dispositivo quântico\n",
    "dev = qml.device('lightning.qubit', wires=n_qubits)\n",
    "\n",
    "@qml.qnode(dev, diff_method='parameter-shift')\n",
    "def quantum_circuit(noise, weights):\n",
    "    weights = weights.reshape(q_depth, n_qubits)\n",
    "    for i in range(n_qubits):\n",
    "        qml.RY(noise[i], wires=i)\n",
    "    for i in range(q_depth):\n",
    "        for j in range(n_qubits):\n",
    "            qml.RY(weights[i][j], wires=j)\n",
    "        for j in range(n_qubits-1):\n",
    "            qml.CZ(wires=[j, j+1])\n",
    "    return qml.probs(wires=list(range(n_qubits)))\n",
    "\n",
    "def partial_measure(noise, weights):\n",
    "    probs = quantum_circuit(noise, weights).clone().detach()\n",
    "    probs_given = probs[:2 ** (n_qubits - n_a_qubits)]\n",
    "    probs_given /= torch.sum(probs_given)\n",
    "    probs_given = probs_given / torch.max(probs_given)\n",
    "    return probs_given"
   ]
  },
  {
   "cell_type": "code",
   "execution_count": 35,
   "metadata": {},
   "outputs": [],
   "source": [
    "class PatchQuantumGenerator(nn.Module):\n",
    "    def __init__(self, n_generators, q_delta=1.):\n",
    "        super().__init__()\n",
    "        self.q_params = nn.ParameterList([\n",
    "            nn.Parameter(q_delta*torch.rand(q_depth*n_qubits))\n",
    "            for _ in range(n_generators)\n",
    "        ])\n",
    "        self.n_generators = n_generators\n",
    "\n",
    "    def forward(self, x):\n",
    "        patch_size = 2**(n_qubits-n_a_qubits)\n",
    "        device = x.device  # garante que criamos tensores no dispositivo correto\n",
    "        images = torch.empty(x.size(0), 0, device=device)\n",
    "        for params in self.q_params:\n",
    "            patches = torch.empty(0, patch_size, device=device)\n",
    "            for elem in x:\n",
    "                q_out = partial_measure(elem, params).float().unsqueeze(0).to(device)\n",
    "                patches = torch.cat((patches, q_out))\n",
    "            images = torch.cat((images, patches), 1)\n",
    "        return images.view(x.size(0), 1, 8, 8)\n"
   ]
  },
  {
   "cell_type": "markdown",
   "metadata": {},
   "source": [
    "## 4. Treinamento\n",
    "Define a função de perda adversarial e executa um ciclo de treinamento simplificado."
   ]
  },
  {
   "cell_type": "code",
   "execution_count": null,
   "metadata": {},
   "outputs": [
    {
     "name": "stdout",
     "output_type": "stream",
     "text": [
      "Iter 50: Loss D 0.300, Loss G 1.479\n"
     ]
    }
   ],
   "source": [
    "# Inicialização\n",
    "device = 'cuda' if torch.cuda.is_available() else 'cpu'\n",
    "D = Discriminator(img_size=8).to(device)\n",
    "G = PatchQuantumGenerator(n_generators).to(device)\n",
    "\n",
    "criterion = nn.BCELoss()\n",
    "optD = torch.optim.SGD(D.parameters(), lr=1e-2)\n",
    "optG = torch.optim.SGD(G.parameters(), lr=3e-1)\n",
    "\n",
    "# Loop de treinamento\n",
    "num_iter = 500\n",
    "for it in range(num_iter):\n",
    "    for real, _ in train_loader:\n",
    "        real = real.to(device)\n",
    "        b_size = real.size(0)\n",
    "\n",
    "        # Labels dinâmicos\n",
    "        real_label = torch.ones((b_size, 1), device=device)\n",
    "        fake_label = torch.zeros((b_size, 1), device=device)\n",
    "\n",
    "        # Gera fake\n",
    "        noise = torch.rand(b_size, n_qubits, device=device) * torch.pi / 2\n",
    "        fake = G(noise)\n",
    "\n",
    "        # Treina D\n",
    "        optD.zero_grad()\n",
    "        out_real = D(real)\n",
    "        out_fake = D(fake.detach())\n",
    "        loss_D_real = criterion(out_real, real_label)\n",
    "        loss_D_fake = criterion(out_fake, fake_label)\n",
    "        loss_D = loss_D_real + loss_D_fake\n",
    "        loss_D.backward()\n",
    "        optD.step()\n",
    "\n",
    "        # Treina G\n",
    "        optG.zero_grad()\n",
    "        out_fake = D(fake)\n",
    "        loss_G = criterion(out_fake, real_label)\n",
    "        loss_G.backward()\n",
    "        optG.step()\n",
    "\n",
    "    if (it + 1) % 50 == 0:\n",
    "        print(f\"Iter {it + 1}: Loss D {loss_D.item():.3f}, Loss G {loss_G.item():.3f}\")\n"
   ]
  },
  {
   "cell_type": "markdown",
   "metadata": {},
   "source": [
    "## 5. Avaliação\n",
    "Utilize as mesmas métricas (FID e IS) para comparar as imagens geradas pela abordagem quântica."
   ]
  },
  {
   "cell_type": "code",
   "execution_count": null,
   "metadata": {},
   "outputs": [],
   "source": [
    "# Calcula FID e IS conforme mostrado no notebook clássico\n",
    "# (exemplo de uso; pode requerer adaptação do tamanho dos lotes)"
   ]
  },
  {
   "cell_type": "markdown",
   "metadata": {},
   "source": [
    "## 6. Visualização\n",
    "Exibe amostras de imagens produzidas pelo gerador quântico."
   ]
  },
  {
   "cell_type": "code",
   "execution_count": null,
   "metadata": {},
   "outputs": [],
   "source": [
    "G.eval()\n",
    "noise = torch.rand(8, n_qubits)*torch.pi/2\n",
    "with torch.no_grad():\n",
    "    samples = G(noise).cpu()\n",
    "\n",
    "fig, axes = plt.subplots(1,8, figsize=(10,2))\n",
    "for ax, img in zip(axes, samples):\n",
    "    ax.imshow(img.squeeze(), cmap='gray')\n",
    "    ax.axis('off')\n",
    "plt.show()"
   ]
  },
  {
   "cell_type": "markdown",
   "metadata": {},
   "source": [
    "## 7. Conclusão\n",
    "Apresentamos uma prova de conceito para GANs quânticas com o framework Pennylane. Avaliações adicionais podem ser realizadas comparando-se com as versões clássicas."
   ]
  }
 ],
 "metadata": {
  "kernelspec": {
   "display_name": "Python 3 (ipykernel)",
   "language": "python",
   "name": "python3"
  },
  "language_info": {
   "codemirror_mode": {
    "name": "ipython",
    "version": 3
   },
   "file_extension": ".py",
   "mimetype": "text/x-python",
   "name": "python",
   "nbconvert_exporter": "python",
   "pygments_lexer": "ipython3",
   "version": "3.11.8"
  }
 },
 "nbformat": 4,
 "nbformat_minor": 4
}
